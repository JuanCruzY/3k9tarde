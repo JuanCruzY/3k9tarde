{
  "cells": [
    {
      "cell_type": "markdown",
      "source": [
        "<a href=\"https://colab.research.google.com/github/institutohumai/cursos-python/blob/master/DeepLearning/4_PyTorch_Avanzado/1_modelos_personalizados.ipynb\" target=\"_parent\"><img src=\"https://colab.research.google.com/assets/colab-badge.svg\" alt=\"Open in Colab\"/></a>\n",
        "# Modelos Personalizados en Pytorch"
      ],
      "metadata": {
        "id": "Z8Le1STcAkFD"
      }
    },
    {
      "cell_type": "markdown",
      "metadata": {
        "origin_pos": 7,
        "id": "QizfICnTmt_-"
      },
      "source": [
        "## **Un bloque personalizado**\n",
        "\n",
        "Funcionalidad básica de un bloque:"
      ]
    },
    {
      "cell_type": "markdown",
      "metadata": {
        "origin_pos": 9,
        "tab": [
          "pytorch"
        ],
        "id": "olo4Ciqcmt__"
      },
      "source": [
        "1. Ingerir datos de entrada como argumentos para su función de propagación directa.\n",
        "1. Generar una salida haciendo que la función de propagación directa devuelva un valor. Tenga en cuenta que la salida puede tener una forma diferente a la entrada. Por ejemplo, la primera capa completamente conectada en nuestro modelo anterior ingiere una entrada de dimensión 20 pero devuelve una salida de dimensión 256.\n",
        "1. Calcular el gradiente de su salida con respecto a su entrada, al que se puede acceder a través de su función de backpropagation. Por lo general, esto sucede automáticamente.\n",
        "1. Almacenar y proporcionar acceso a aquellos parámetros necesarios para ejecutar el cálculo de propagación directa.\n",
        "1. Inicializar los parámetros del modelo según sea necesario.\n"
      ]
    },
    {
      "cell_type": "markdown",
      "metadata": {
        "origin_pos": 10,
        "id": "0nRhZAOCmuAA"
      },
      "source": [
        "En el siguiente fragmento, codificamos un bloque desde cero\n",
        "correspondiente a un MLP con una capa oculta con 256 unidades ocultas y una capa de salida de 10 dimensiones. Tenga en cuenta que la clase `MLP` a continuación hereda de la clase `Module` que representa un bloque. Confiaremos en gran medida en las funciones de la clase principal, proporcionando solo nuestro propio constructor (la función `__init__` en Python) y la función `forward` de propagación hacia adelante.\n"
      ]
    },
    {
      "cell_type": "code",
      "execution_count": null,
      "metadata": {
        "origin_pos": 12,
        "tab": [
          "pytorch"
        ],
        "id": "k7GXQgM2muAC"
      },
      "outputs": [],
      "source": [
        "import torch\n",
        "from torch import nn\n",
        "from torch.nn import functional as F\n",
        "\n",
        "# Definimos una clase llamada MLP que representa nuestro modelo neuronal.\n",
        "# Esta clase hereda de nn.Module, que es la base de todos los bloques en PyTorch.\n",
        "class MLP(nn.Module):\n",
        "\n",
        "    # El método __init__ se ejecuta al crear una instancia del modelo.\n",
        "    def __init__(self):\n",
        "        # Llamamos al constructor de la clase base (nn.Module).\n",
        "        # Esto es necesario para que PyTorch registre correctamente los parámetros del modelo.\n",
        "        super().__init__()\n",
        "\n",
        "        # Definimos una capa oculta totalmente conectada (densamente conectada).\n",
        "        # Toma entradas de tamaño 20 y produce salidas de tamaño 256.\n",
        "        self.hidden = nn.Linear(20, 256)\n",
        "\n",
        "        # Definimos la capa de salida, que toma las 256 salidas de la capa oculta\n",
        "        # y las convierte en 10 salidas (por ejemplo, para clasificación en 10 clases).\n",
        "        self.out = nn.Linear(256, 10)\n",
        "\n",
        "    # El método forward define cómo se procesan los datos a través del modelo.\n",
        "    # Este método se llama automáticamente cuando haces `modelo(x)`.\n",
        "    def forward(self, X):\n",
        "        # Primero, pasamos la entrada por la capa oculta.\n",
        "        # Luego aplicamos la función de activación ReLU para introducir no linealidad.\n",
        "        # Finalmente, pasamos el resultado por la capa de salida.\n",
        "        return self.out(F.relu(self.hidden(X)))"
      ]
    },
    {
      "cell_type": "markdown",
      "metadata": {
        "origin_pos": 14,
        "id": "i0k14PQVmuAE"
      },
      "source": [
        "La función forward() dice cómo fluye la información en tu modelo.\n",
        "\n",
        "Al usar self.hidden y self.out, cada red (net1, net2, etc.) tiene sus propios parámetros, así pueden entrenarse por separado.\n",
        "\n",
        "super().__init__() es necesario para que PyTorch entienda tu modelo.\n",
        "\n",
        "No necesitás escribir backpropagation manualmente. PyTorch lo hace por vos con .backward().\n"
      ]
    },
    {
      "cell_type": "code",
      "execution_count": null,
      "metadata": {
        "origin_pos": 16,
        "tab": [
          "pytorch"
        ],
        "id": "VcGahFWVmuAF",
        "outputId": "2b362a95-5283-4272-9e95-747f959735d8"
      },
      "outputs": [
        {
          "data": {
            "text/plain": [
              "tensor([[ 0.1298,  0.2597, -0.0968, -0.0494,  0.1476,  0.1454,  0.1632,  0.0199,\n",
              "         -0.0087,  0.3480],\n",
              "        [ 0.1466,  0.1623, -0.0858, -0.0544,  0.1312,  0.2089,  0.1057,  0.0484,\n",
              "         -0.0889,  0.3298]], grad_fn=<AddmmBackward0>)"
            ]
          },
          "execution_count": 3,
          "metadata": {},
          "output_type": "execute_result"
        }
      ],
      "source": [
        "net = MLP()\n",
        "net(X)"
      ]
    },
    {
      "cell_type": "markdown",
      "metadata": {
        "origin_pos": 18,
        "id": "GGxZfNSvmuAH"
      },
      "source": [
        "## **El Bloque Sequential**\n",
        "\n",
        "Ahora podemos echar un vistazo más de cerca a cómo funciona la clase `Sequential`. Recuerde que `Sequential` fue diseñado para conectar en cadena otros bloques. Para construir nuestro propio `MySequential` simplificado, solo necesitamos definir dos funciones clave:\n",
        "1. Una función para agregar bloques uno por uno a una lista.\n",
        "2. Una función de propagación directa para pasar una entrada a través de la cadena de bloques, en el mismo orden en que se agregaron.\n",
        "\n",
        "La siguiente clase `MySequential` ofrece la misma funcionalidad que la clase `Sequential` predeterminada.\n",
        "\n",
        "\n",
        "\n"
      ]
    },
    {
      "cell_type": "code",
      "execution_count": null,
      "metadata": {
        "origin_pos": 20,
        "tab": [
          "pytorch"
        ],
        "id": "CwKegM_ZmuAJ"
      },
      "outputs": [],
      "source": [
        "import torch\n",
        "from torch import nn\n",
        "\n",
        "# Esta clase personalizada actúa como una versión simple de nn.Sequential.\n",
        "class MySequential(nn.Module):\n",
        "\n",
        "    # El constructor recibe una cantidad variable de argumentos (capas).\n",
        "    def __init__(self, *args):\n",
        "        super().__init__()  # Inicializamos la clase base nn.Module\n",
        "\n",
        "        # Recorremos todas las capas pasadas como argumento\n",
        "        for idx, module in enumerate(args):\n",
        "            # Cada módulo (capa) se guarda en self._modules, un OrderedDict interno de nn.Module\n",
        "            # Le asignamos como clave un string del índice, ej: \"0\", \"1\", etc.\n",
        "            self._modules[str(idx)] = module\n",
        "\n",
        "    # La función forward define cómo fluye la información por los módulos secuenciales\n",
        "    def forward(self, X):\n",
        "        # Recorremos las capas en el orden en que fueron agregadas\n",
        "        for block in self._modules.values():\n",
        "            X = block(X)  # Aplicamos cada bloque (capa) al input\n",
        "        return X  # Devolvemos la salida final\n"
      ]
    },
    {
      "cell_type": "markdown",
      "source": [
        "![image.png](data:image/png;base64,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)"
      ],
      "metadata": {
        "id": "1GI0r1XCf8E5"
      }
    },
    {
      "cell_type": "markdown",
      "metadata": {
        "origin_pos": 23,
        "tab": [
          "pytorch"
        ],
        "id": "6oIFLj7bmuAL"
      },
      "source": [
        "En el método `__init__`, agregamos cada bloque al diccionario ordenado `_modules` uno por uno. Quizás se pregunte por qué cada `Module` posee un atributo `_modules` y por qué lo usamos en lugar de simplemente definir una lista de Python nosotros mismos. En resumen, la principal ventaja de `_modules` es que durante la inicialización de los parámetros de nuestro bloque, el sistema sabe buscar dentro del diccionario `_modules` para encontrar subbloques cuyos parámetros también necesitan inicializarse.\n"
      ]
    },
    {
      "cell_type": "markdown",
      "metadata": {
        "origin_pos": 24,
        "id": "9dVGEeUtmuAP"
      },
      "source": [
        "Cuando se invoca la función de propagación directa de `MySequential`, cada bloque agregado se ejecuta en el orden en que se agregaron. Ahora podemos volver a implementar un MLP usando nuestra clase `MySequential`.\n"
      ]
    },
    {
      "cell_type": "code",
      "execution_count": null,
      "metadata": {
        "origin_pos": 26,
        "tab": [
          "pytorch"
        ],
        "id": "QupSh-uOmuAQ",
        "outputId": "0ffa7ca8-1d3a-4818-eb11-52ae3c6edcf4"
      },
      "outputs": [
        {
          "data": {
            "text/plain": [
              "tensor([[-0.2045, -0.1206,  0.2077,  0.0615, -0.1246,  0.0457, -0.0679, -0.3117,\n",
              "          0.0269, -0.3475],\n",
              "        [-0.2765, -0.2260,  0.1733,  0.1343, -0.3023,  0.0324, -0.1404, -0.4459,\n",
              "         -0.0769, -0.2924]], grad_fn=<AddmmBackward0>)"
            ]
          },
          "execution_count": 5,
          "metadata": {},
          "output_type": "execute_result"
        }
      ],
      "source": [
        "net = MySequential(nn.Linear(20, 256), nn.ReLU(), nn.Linear(256, 10))\n",
        "net(X)"
      ]
    },
    {
      "cell_type": "markdown",
      "source": [
        "Tenga en cuenta que este uso de `MySequential` es idéntico al código que escribimos anteriormente para la clase `Sequential`."
      ],
      "metadata": {
        "id": "j4zDY_crT8Tg"
      }
    },
    {
      "cell_type": "markdown",
      "metadata": {
        "origin_pos": 28,
        "id": "Fv3s9KyqmuAR"
      },
      "source": [
        "## **Ejecutando código en la función de propagación directa**\n",
        "\n"
      ]
    },
    {
      "cell_type": "code",
      "execution_count": null,
      "metadata": {
        "origin_pos": 30,
        "tab": [
          "pytorch"
        ],
        "id": "4EKUI_wemuAS"
      },
      "outputs": [],
      "source": [
        "# Definimos una clase personalizada de red neuronal, heredando de nn.Module\n",
        "class FixedHiddenMLP(nn.Module):\n",
        "    def __init__(self):\n",
        "        # Inicializamos la clase base (nn.Module)\n",
        "        super().__init__()\n",
        "\n",
        "        # Creamos una matriz de pesos aleatorios de tamaño (20x20)\n",
        "        # Estos NO se actualizarán durante el entrenamiento porque no requieren gradiente\n",
        "        self.rand_weight = torch.rand((20, 20), requires_grad=False)\n",
        "\n",
        "        # Definimos una capa lineal (completamente conectada) que transforma\n",
        "        # un vector de tamaño 20 en otro vector de tamaño 20\n",
        "        self.linear = nn.Linear(20, 20)\n",
        "\n",
        "    # Esta es la función de propagación hacia adelante (forward)\n",
        "    def forward(self, X):\n",
        "        # Aplicamos la capa lineal al input X\n",
        "        X = self.linear(X)\n",
        "\n",
        "        # Multiplicamos el resultado por la matriz de pesos fija (no entrenable)\n",
        "        # Le sumamos 1 a todos los elementos y aplicamos la función ReLU\n",
        "        # - torch.mm: multiplicación de matrices\n",
        "        # - F.relu: aplica la función ReLU (activa solo valores positivos)\n",
        "        X = F.relu(torch.mm(X, self.rand_weight) + 1)\n",
        "\n",
        "        # Volvemos a aplicar la misma capa lineal que usamos al principio\n",
        "        # Esto implica que estamos reutilizando (compartiendo) los mismos pesos\n",
        "        X = self.linear(X)\n",
        "\n",
        "        # Ciclo de control: mientras la suma de los valores absolutos de X sea mayor que 1\n",
        "        # seguimos dividiendo X entre 2. Esto es puro flujo de control personalizado.\n",
        "        while X.abs().sum() > 1:\n",
        "            X /= 2\n",
        "\n",
        "        # Finalmente, devolvemos la suma de todos los elementos del tensor X como salida\n",
        "        return X.sum()"
      ]
    },
    {
      "cell_type": "markdown",
      "metadata": {
        "origin_pos": 32,
        "id": "E0zCu2zEmuAU"
      },
      "source": [
        "💡 ¿Por qué esto es interesante?\n",
        "Porque te demuestra que podés hacer cosas como:\n",
        "\n",
        "Usar tensores fijos que no se entrenan.\n",
        "\n",
        "Incluir operaciones personalizadas fuera de nn.Linear, nn.Conv2d, etc.\n",
        "\n",
        "Incluir flujo de control como while, if, for, lo que quieras.\n",
        "\n",
        "Reutilizar capas si querés compartir parámetros.\n",
        "\n",
        "✅ Conclusión\n",
        "Este tipo de estructuras no son comunes en redes reales, pero son un ejemplo genial para:\n",
        "\n",
        "Aprender cómo extender PyTorch.\n",
        "\n",
        "Meter lógica especial que no podrías con nn.Sequential.\n",
        "\n",
        "Ver cómo el sistema de autograd (diferenciación automática) funciona incluso con código arbitrario (mientras no rompas la cadena de operaciones tensoriales).\n"
      ]
    },
    {
      "cell_type": "code",
      "execution_count": null,
      "metadata": {
        "origin_pos": 34,
        "tab": [
          "pytorch"
        ],
        "id": "eynLXAdemuAX",
        "outputId": "bd9917c0-b0cf-41bd-8742-ffd8285af53c"
      },
      "outputs": [
        {
          "data": {
            "text/plain": [
              "tensor(0.1288, grad_fn=<SumBackward0>)"
            ]
          },
          "execution_count": 7,
          "metadata": {},
          "output_type": "execute_result"
        }
      ],
      "source": [
        "net = FixedHiddenMLP()\n",
        "net(X)"
      ]
    },
    {
      "cell_type": "markdown",
      "metadata": {
        "origin_pos": 0,
        "id": "ZG3Tmh2uqktb"
      },
      "source": [
        "# Capas personalizadas\n",
        "\n"
      ]
    },
    {
      "cell_type": "markdown",
      "source": [
        "## **Capas sin Parámetros**\n",
        "\n",
        "Para empezar, construimos una capa personalizada que no tiene parámetros propios. La siguiente clase `CenteredLayer` simplemente\n",
        "resta la media de su entrada. Para construirlo, simplemente necesitamos heredar de la clase base `Layer` e implementar la función `forward`"
      ],
      "metadata": {
        "id": "9k533xdLXuKS"
      }
    },
    {
      "cell_type": "code",
      "execution_count": null,
      "metadata": {
        "origin_pos": 2,
        "tab": [
          "pytorch"
        ],
        "id": "h2OLIPXAqktj"
      },
      "outputs": [],
      "source": [
        "import torch\n",
        "from torch import nn\n",
        "from torch.nn import functional as F\n",
        "\n",
        "\n",
        "class CenteredLayer(nn.Module):\n",
        "    def __init__(self):\n",
        "        super().__init__()\n",
        "\n",
        "    def forward(self, X):\n",
        "        return X - X.mean()"
      ]
    },
    {
      "cell_type": "markdown",
      "metadata": {
        "origin_pos": 16,
        "id": "QMVoxVfnqkt2"
      },
      "source": [
        "## **Capas con parámetros**\n",
        "\n",
        "Ahora que sabemos cómo definir capas simples, pasemos a definir capas con parámetros que se pueden ajustar a través del entrenamiento. Podemos usar la clase `nn.Parameter` para crear parámetros, que brinda algunas funciones básicas de mantenimiento. En particular, rige el acceso, la inicialización, el uso compartido, el guardado y la carga de los parámetros del modelo.\n",
        "De esta forma, entre otros beneficios, no necesitaremos escribir rutinas de serialización personalizadas para cada capa personalizada.\n",
        "\n",
        "Ahora implementemos nuestra propia versión de la capa densa. Recuerde que esta capa requiere dos parámetros, uno para representar los pesos y otro para el sesgo. En esta implementación, usamos la función de activación ReLU prefabricada. Esta capa requiere argumentos de entrada: `in_units` y `units`, que denotan el número de entradas y salidas, respectivamente.\n"
      ]
    },
    {
      "cell_type": "code",
      "execution_count": null,
      "metadata": {
        "origin_pos": 18,
        "tab": [
          "pytorch"
        ],
        "id": "XSMh4juJqkt4"
      },
      "outputs": [],
      "source": [
        "class MyLinear(nn.Module):\n",
        "    def __init__(self, in_units, units):\n",
        "        super().__init__()\n",
        "        self.weight = nn.Parameter(torch.randn(in_units, units))\n",
        "        self.bias = nn.Parameter(torch.randn(units,))\n",
        "    def forward(self, X):\n",
        "        linear = torch.matmul(X, self.weight.data) + self.bias.data\n",
        "        return F.relu(linear)"
      ]
    },
    {
      "cell_type": "markdown",
      "source": [
        "# Gestión de parámetros"
      ],
      "metadata": {
        "id": "j-0rDnGkd_c9"
      }
    },
    {
      "cell_type": "markdown",
      "metadata": {
        "origin_pos": 0,
        "id": "vGYi52EltCA7"
      },
      "source": [
        "\n",
        "\n",
        "Una vez que hemos elegido una arquitectura y establecido nuestros hiperparámetros, procedemos al ciclo de entrenamiento, donde nuestro objetivo es encontrar valores de parámetros que minimicen nuestra función de pérdida. Después del entrenamiento, necesitaremos estos parámetros para poder hacer futuras predicciones. Además, a veces desearemos extraer los parámetros para reutilizarlos en otro contexto, para guardar nuestro modelo en el disco para que pueda ejecutarse en otro software, o para examinarlo con la esperanza de obtener una comprensión científica.\n",
        "\n",
        "La mayoría de las veces, podremos ignorar los detalles esenciales de cómo se declaran y manipulan los parámetros, confiando en marcos de aprendizaje profundo para hacer el trabajo pesado. Sin embargo, cuando nos alejamos de las arquitecturas apiladas con capas estándar, a veces necesitaremos entrar en la maleza de declarar y manipular parámetros. En esta sección, cubrimos lo siguiente:\n",
        "\n",
        "* Acceso a parámetros para depuración, diagnóstico y visualizaciones.\n",
        "* Inicialización de parámetros.\n",
        "* Compartir parámetros entre diferentes componentes del modelo.\n",
        "\n",
        "**Comenzamos enfocándonos en un MLP con una capa oculta.**\n"
      ]
    },
    {
      "cell_type": "code",
      "execution_count": 1,
      "metadata": {
        "origin_pos": 2,
        "tab": [
          "pytorch"
        ],
        "id": "ZfZPgSA3tCBM",
        "outputId": "9f97f912-d2ed-4ba7-e5de-ea02aa011fbe",
        "colab": {
          "base_uri": "https://localhost:8080/"
        }
      },
      "outputs": [
        {
          "output_type": "execute_result",
          "data": {
            "text/plain": [
              "tensor([[-0.3438],\n",
              "        [-0.5203]], grad_fn=<AddmmBackward0>)"
            ]
          },
          "metadata": {},
          "execution_count": 1
        }
      ],
      "source": [
        "import torch\n",
        "from torch import nn\n",
        "\n",
        "net = nn.Sequential(nn.Linear(4, 8), nn.ReLU(), nn.Linear(8, 1))\n",
        "X = torch.rand(size=(2, 4))\n",
        "net(X)"
      ]
    },
    {
      "cell_type": "markdown",
      "metadata": {
        "origin_pos": 4,
        "id": "Xl2lUXp-tCBO"
      },
      "source": [
        "## **Acceso a parámetros**\n",
        "\n",
        "Comencemos con cómo acceder a los parámetros de los modelos que ya conoce. Cuando un modelo se define a través de la clase `Sequential`, primero podemos acceder a cualquier capa indexando el modelo como si fuera una lista. Los parámetros de cada capa están convenientemente ubicados en su atributo. Podemos inspeccionar los parámetros de la segunda capa completamente conectada de la siguiente manera.\n"
      ]
    },
    {
      "cell_type": "code",
      "execution_count": 2,
      "metadata": {
        "origin_pos": 6,
        "tab": [
          "pytorch"
        ],
        "id": "IYawh9OitCBQ",
        "outputId": "c8d0dcf9-bbce-415f-8663-4a40a154ff42",
        "colab": {
          "base_uri": "https://localhost:8080/"
        }
      },
      "outputs": [
        {
          "output_type": "stream",
          "name": "stdout",
          "text": [
            "OrderedDict([('weight', tensor([[-0.2468, -0.1712, -0.0247, -0.0732, -0.2436, -0.0722,  0.1775, -0.1493]])), ('bias', tensor([-0.3083]))])\n"
          ]
        }
      ],
      "source": [
        "print(net[2].state_dict())"
      ]
    },
    {
      "cell_type": "markdown",
      "source": [
        "La salida nos dice algunas cosas importantes. Primero, esta capa completamente conectada contiene dos parámetros, correspondientes a los pesos y sesgos de esa capa, respectivamente. Ambos se almacenan como flotadores de precisión simples (float32). Tenga en cuenta que los nombres de los parámetros nos permiten identificar de forma única los parámetros de cada capa, incluso en una red que contiene cientos de capas."
      ],
      "metadata": {
        "id": "_DhgJppPeUtJ"
      }
    },
    {
      "cell_type": "markdown",
      "metadata": {
        "origin_pos": 8,
        "id": "_zvFuBgmtCBS"
      },
      "source": [
        "### **Indexado de parámteros**\n",
        "\n",
        "Tenga en cuenta que cada parámetro se representa como una instancia de la clase de parámetro. Para hacer algo útil con los parámetros, primero debemos acceder a los valores numéricos subyacentes. Hay varias maneras de hacer esto. Algunos son más simples, mientras que otros son más generales. El siguiente código extrae el sesgo de la segunda capa de la red neuronal, que devuelve una instancia de la clase `Parameter` y además accede al valor de ese parámetro.\n"
      ]
    },
    {
      "cell_type": "code",
      "execution_count": 3,
      "metadata": {
        "origin_pos": 10,
        "tab": [
          "pytorch"
        ],
        "id": "6kY3XIxLtCBV",
        "outputId": "afeca371-62a9-43ec-a528-f8b7d7487623",
        "colab": {
          "base_uri": "https://localhost:8080/"
        }
      },
      "outputs": [
        {
          "output_type": "stream",
          "name": "stdout",
          "text": [
            "<class 'torch.nn.parameter.Parameter'>\n",
            "Parameter containing:\n",
            "tensor([-0.3083], requires_grad=True)\n",
            "tensor([-0.3083])\n"
          ]
        }
      ],
      "source": [
        "print(type(net[2].bias))\n",
        "print(net[2].bias)\n",
        "print(net[2].bias.data)"
      ]
    },
    {
      "cell_type": "markdown",
      "metadata": {
        "origin_pos": 12,
        "tab": [
          "pytorch"
        ],
        "id": "gfGyRZ5mtCBY"
      },
      "source": [
        "Los parámetros son objetos complejos que contienen valores, gradientes e información adicional. Es por eso que necesitamos solicitar el valor explícitamente. Además del valor, cada parámetro también nos permite acceder al gradiente. Debido a que aún no hemos invocado la retropropagación para esta red, se encuentra en su estado inicial."
      ]
    },
    {
      "cell_type": "code",
      "execution_count": 4,
      "metadata": {
        "origin_pos": 14,
        "tab": [
          "pytorch"
        ],
        "id": "qQ-rJ6QstCBa",
        "outputId": "5dd21ef7-9db7-4f78-adbb-ba9e85b59549",
        "colab": {
          "base_uri": "https://localhost:8080/"
        }
      },
      "outputs": [
        {
          "output_type": "execute_result",
          "data": {
            "text/plain": [
              "True"
            ]
          },
          "metadata": {},
          "execution_count": 4
        }
      ],
      "source": [
        "net[2].weight.grad == None"
      ]
    },
    {
      "cell_type": "markdown",
      "metadata": {
        "origin_pos": 15,
        "id": "Z7NJ5CcitCBc"
      },
      "source": [
        "### **Todos los parámetros a la vez**\n",
        "\n",
        "Cuando necesitamos realizar operaciones en todos los parámetros, acceder a ellos uno por uno puede volverse tedioso. La situación puede volverse especialmente difícil de manejar cuando trabajamos con bloques más complejos (por ejemplo, bloques anidados), ya que tendríamos que recurrir a todo el árbol para extraer los parámetros de cada subbloque. A continuación, demostramos el acceso a los parámetros de la primera capa densa frente al acceso a todas las capas.\n"
      ]
    },
    {
      "cell_type": "code",
      "execution_count": 7,
      "metadata": {
        "origin_pos": 17,
        "tab": [
          "pytorch"
        ],
        "id": "OtmhPOc3tCBe",
        "outputId": "c0ffa1e3-b9f6-4ff6-da47-1b90f3c96125",
        "colab": {
          "base_uri": "https://localhost:8080/"
        }
      },
      "outputs": [
        {
          "output_type": "stream",
          "name": "stdout",
          "text": [
            "('weight', torch.Size([8, 4])) ('bias', torch.Size([8]))\n",
            "('0.weight', torch.Size([8, 4])) ('0.bias', torch.Size([8])) ('2.weight', torch.Size([1, 8])) ('2.bias', torch.Size([1]))\n"
          ]
        }
      ],
      "source": [
        "print(*[(name, param.shape) for name, param in net[0].named_parameters()])\n",
        "print(*[(name, param.shape) for name, param in net.named_parameters()])"
      ]
    },
    {
      "cell_type": "markdown",
      "metadata": {
        "origin_pos": 19,
        "id": "8BLBztbitCBg"
      },
      "source": [
        "Esto nos proporciona otra forma de acceder a los parámetros de la red de la siguiente manera.\n"
      ]
    },
    {
      "cell_type": "code",
      "execution_count": 11,
      "metadata": {
        "origin_pos": 21,
        "tab": [
          "pytorch"
        ],
        "id": "d7n4p5GStCBh",
        "outputId": "214079bf-5ecd-4969-bcd1-ac2a53d1a73b",
        "colab": {
          "base_uri": "https://localhost:8080/"
        }
      },
      "outputs": [
        {
          "output_type": "execute_result",
          "data": {
            "text/plain": [
              "tensor([-0.3083])"
            ]
          },
          "metadata": {},
          "execution_count": 11
        }
      ],
      "source": [
        "net.state_dict()['2.bias'].data"
      ]
    },
    {
      "cell_type": "markdown",
      "metadata": {
        "origin_pos": 23,
        "id": "H6C-ry1xtCBh"
      },
      "source": [
        "### **Recopilación de parámetros de bloques anidados**\n",
        "\n",
        "Veamos cómo funcionan las convenciones de nomenclatura de parámetros si anidamos varios bloques uno dentro de otro. Para eso, primero definimos una función que produce bloques (una fábrica de bloques, por así decirlo) y luego los combinamos dentro de bloques aún más grandes."
      ]
    },
    {
      "cell_type": "code",
      "execution_count": 12,
      "metadata": {
        "origin_pos": 25,
        "tab": [
          "pytorch"
        ],
        "id": "h-QhwGzPtCBi",
        "outputId": "0f0dbd38-2d4d-4d9e-8898-52b91dd2b074",
        "colab": {
          "base_uri": "https://localhost:8080/"
        }
      },
      "outputs": [
        {
          "output_type": "execute_result",
          "data": {
            "text/plain": [
              "tensor([[-0.4408],\n",
              "        [-0.4408]], grad_fn=<AddmmBackward0>)"
            ]
          },
          "metadata": {},
          "execution_count": 12
        }
      ],
      "source": [
        "def block1():\n",
        "    return nn.Sequential(nn.Linear(4, 8), nn.ReLU(),\n",
        "                         nn.Linear(8, 4), nn.ReLU())\n",
        "\n",
        "def block2():\n",
        "    net = nn.Sequential()\n",
        "    for i in range(4):\n",
        "        # Nested here\n",
        "        net.add_module(f'block {i}', block1())\n",
        "    return net\n",
        "\n",
        "rgnet = nn.Sequential(block2(), nn.Linear(4, 1))\n",
        "rgnet(X)"
      ]
    },
    {
      "cell_type": "markdown",
      "metadata": {
        "origin_pos": 27,
        "id": "jUdo8NA5tCBj"
      },
      "source": [
        "Ahora que **hemos diseñado la red,\n",
        "veamos cómo está organizada.**"
      ]
    },
    {
      "cell_type": "code",
      "execution_count": null,
      "metadata": {
        "origin_pos": 29,
        "tab": [
          "pytorch"
        ],
        "id": "P_kthzwTtCBj",
        "outputId": "f6f49ed1-897d-4d47-f22f-00f50db4b40b"
      },
      "outputs": [
        {
          "name": "stdout",
          "output_type": "stream",
          "text": [
            "Sequential(\n",
            "  (0): Sequential(\n",
            "    (block 0): Sequential(\n",
            "      (0): Linear(in_features=4, out_features=8, bias=True)\n",
            "      (1): ReLU()\n",
            "      (2): Linear(in_features=8, out_features=4, bias=True)\n",
            "      (3): ReLU()\n",
            "    )\n",
            "    (block 1): Sequential(\n",
            "      (0): Linear(in_features=4, out_features=8, bias=True)\n",
            "      (1): ReLU()\n",
            "      (2): Linear(in_features=8, out_features=4, bias=True)\n",
            "      (3): ReLU()\n",
            "    )\n",
            "    (block 2): Sequential(\n",
            "      (0): Linear(in_features=4, out_features=8, bias=True)\n",
            "      (1): ReLU()\n",
            "      (2): Linear(in_features=8, out_features=4, bias=True)\n",
            "      (3): ReLU()\n",
            "    )\n",
            "    (block 3): Sequential(\n",
            "      (0): Linear(in_features=4, out_features=8, bias=True)\n",
            "      (1): ReLU()\n",
            "      (2): Linear(in_features=8, out_features=4, bias=True)\n",
            "      (3): ReLU()\n",
            "    )\n",
            "  )\n",
            "  (1): Linear(in_features=4, out_features=1, bias=True)\n",
            ")\n"
          ]
        }
      ],
      "source": [
        "print(rgnet)"
      ]
    },
    {
      "cell_type": "markdown",
      "metadata": {
        "origin_pos": 31,
        "id": "aFt7bimitCBj"
      },
      "source": [
        "Dado que las capas están anidadas jerárquicamente, también podemos acceder a ellas como si indexáramos a través de listas anidadas. Por ejemplo, podemos acceder al primer bloque principal, dentro de él al segundo sub-bloque, y dentro de este al sesgo de la primera capa, de la siguiente manera."
      ]
    },
    {
      "cell_type": "code",
      "execution_count": null,
      "metadata": {
        "origin_pos": 33,
        "tab": [
          "pytorch"
        ],
        "id": "1xAD5UettCBk",
        "outputId": "3c62d30b-e562-4178-ceb0-056b5367ff68"
      },
      "outputs": [
        {
          "data": {
            "text/plain": [
              "tensor([ 0.2247,  0.3228, -0.2617, -0.0094, -0.2431, -0.3883,  0.1471,  0.4484])"
            ]
          },
          "execution_count": 9,
          "metadata": {},
          "output_type": "execute_result"
        }
      ],
      "source": [
        "rgnet[0][1][0].bias.data"
      ]
    },
    {
      "cell_type": "markdown",
      "metadata": {
        "origin_pos": 35,
        "id": "IuMhjblxtCBl"
      },
      "source": [
        "## Inicialización de parámetros\n",
        "\n",
        "Ahora que sabemos cómo acceder a los parámetros, veamos cómo inicializarlos correctamente. El marco de aprendizaje profundo proporciona inicializaciones aleatorias predeterminadas para sus capas. Sin embargo, a menudo queremos inicializar nuestros pesos de acuerdo con varios otros protocolos. El marco proporciona los protocolos más utilizados y también permite crear un inicializador personalizado.\n"
      ]
    },
    {
      "cell_type": "markdown",
      "metadata": {
        "origin_pos": 37,
        "tab": [
          "pytorch"
        ],
        "id": "M2o5TAEOtCBl"
      },
      "source": [
        "De forma predeterminada, PyTorch inicializa las matrices de peso y sesgo de manera uniforme dibujando desde un rango que se calcula de acuerdo con la dimensión de entrada y salida. El módulo `nn.init` de PyTorch proporciona una variedad de métodos de inicialización preestablecidos."
      ]
    },
    {
      "cell_type": "markdown",
      "metadata": {
        "origin_pos": 39,
        "id": "Lq30MCcJtCBm"
      },
      "source": [
        "### **Inicialización integrada**\n",
        "\n",
        "Comencemos llamando a los inicializadores incorporados. El siguiente código inicializa todos los parámetros de ponderación como variables aleatorias gaussianas con una desviación estándar de 0,01, mientras que los parámetros de sesgo se borran a cero."
      ]
    },
    {
      "cell_type": "code",
      "execution_count": null,
      "metadata": {
        "origin_pos": 41,
        "tab": [
          "pytorch"
        ],
        "id": "5dPaElbOtCBm",
        "outputId": "e31ef4c3-e398-4bb8-fb02-521b1d4b8f88"
      },
      "outputs": [
        {
          "data": {
            "text/plain": [
              "(tensor([-0.0002, -0.0145, -0.0036, -0.0147]), tensor(0.))"
            ]
          },
          "execution_count": 10,
          "metadata": {},
          "output_type": "execute_result"
        }
      ],
      "source": [
        "def init_normal(m):\n",
        "    if type(m) == nn.Linear:\n",
        "        nn.init.normal_(m.weight, mean=0, std=0.01)\n",
        "        nn.init.zeros_(m.bias)\n",
        "net.apply(init_normal)\n",
        "net[0].weight.data[0], net[0].bias.data[0]"
      ]
    },
    {
      "cell_type": "markdown",
      "metadata": {
        "origin_pos": 43,
        "id": "a5jJjtZPtCBn"
      },
      "source": [
        "También podemos inicializar todos los parámetros a un valor constante dado (por ejemplo, 1).\n"
      ]
    },
    {
      "cell_type": "code",
      "execution_count": null,
      "metadata": {
        "origin_pos": 45,
        "tab": [
          "pytorch"
        ],
        "id": "fxvb_yVbtCBn",
        "outputId": "88ec053a-bf80-4e2c-d9e6-486bdd9bb203"
      },
      "outputs": [
        {
          "data": {
            "text/plain": [
              "(tensor([1., 1., 1., 1.]), tensor(0.))"
            ]
          },
          "execution_count": 11,
          "metadata": {},
          "output_type": "execute_result"
        }
      ],
      "source": [
        "def init_constant(m):\n",
        "    if type(m) == nn.Linear:\n",
        "        nn.init.constant_(m.weight, 1)\n",
        "        nn.init.zeros_(m.bias)\n",
        "net.apply(init_constant)\n",
        "net[0].weight.data[0], net[0].bias.data[0]"
      ]
    },
    {
      "cell_type": "markdown",
      "metadata": {
        "origin_pos": 47,
        "id": "ltXkJG7EtCBo"
      },
      "source": [
        "**También podemos aplicar diferentes inicializadores para ciertos bloques.** Por ejemplo, a continuación inicializamos la primera capa con el inicializador Xavier e inicializamos la segunda capa a un valor constante de 42."
      ]
    },
    {
      "cell_type": "code",
      "execution_count": null,
      "metadata": {
        "origin_pos": 49,
        "tab": [
          "pytorch"
        ],
        "id": "XtHz89xxtCBp",
        "outputId": "b81cd634-f870-4ca8-f131-f76663c531d9"
      },
      "outputs": [
        {
          "name": "stdout",
          "output_type": "stream",
          "text": [
            "tensor([-0.4059, -0.2534,  0.4267,  0.5348])\n",
            "tensor([[42., 42., 42., 42., 42., 42., 42., 42.]])\n"
          ]
        }
      ],
      "source": [
        "def xavier(m):\n",
        "    if type(m) == nn.Linear:\n",
        "        nn.init.xavier_uniform_(m.weight)\n",
        "def init_42(m):\n",
        "    if type(m) == nn.Linear:\n",
        "        nn.init.constant_(m.weight, 42)\n",
        "\n",
        "net[0].apply(xavier)\n",
        "net[2].apply(init_42)\n",
        "print(net[0].weight.data[0])\n",
        "print(net[2].weight.data)"
      ]
    },
    {
      "cell_type": "markdown",
      "metadata": {
        "origin_pos": 51,
        "id": "xh9hYntItCBq"
      },
      "source": [
        "### **Inicialización personalizada**\n",
        "\n",
        "A veces, el marco de aprendizaje profundo no proporciona los métodos de inicialización que necesitamos. En el siguiente ejemplo, definimos un inicializador para cualquier parámetro de peso $w$ usando la siguiente distribución extraña:\n",
        "$$\n",
        "\\begin{aligned}\n",
        "    w \\sim \\begin{cases}\n",
        "        U(5, 10) & \\text{ con probabilidad } \\frac{1}{4} \\\\\n",
        "            0    & \\text{ con probabilidad } \\frac{1}{2} \\\\\n",
        "        U(-10, -5) & \\text{ con probabilidad } \\frac{1}{4}\n",
        "    \\end{cases}\n",
        "\\end{aligned}\n",
        "$$\n"
      ]
    },
    {
      "cell_type": "markdown",
      "metadata": {
        "origin_pos": 53,
        "tab": [
          "pytorch"
        ],
        "id": "IHOy9hDEtCBr"
      },
      "source": [
        "Nuevamente, implementamos una función `my_init` para aplicar a `net`.\n"
      ]
    },
    {
      "cell_type": "code",
      "execution_count": 13,
      "metadata": {
        "origin_pos": 56,
        "tab": [
          "pytorch"
        ],
        "id": "G8ik1FcFtCBs",
        "outputId": "504be9d7-4f6e-4c89-c6a1-efb24b51e125",
        "colab": {
          "base_uri": "https://localhost:8080/"
        }
      },
      "outputs": [
        {
          "output_type": "stream",
          "name": "stdout",
          "text": [
            "Init weight torch.Size([8, 4])\n",
            "Init weight torch.Size([1, 8])\n"
          ]
        },
        {
          "output_type": "execute_result",
          "data": {
            "text/plain": [
              "tensor([[-9.9107, -5.7591, -0.0000,  0.0000],\n",
              "        [ 8.4991, -5.9871, -0.0000,  8.2916]], grad_fn=<SliceBackward0>)"
            ]
          },
          "metadata": {},
          "execution_count": 13
        }
      ],
      "source": [
        "def my_init(m):\n",
        "    if type(m) == nn.Linear:\n",
        "        print(\"Init\", *[(name, param.shape)\n",
        "                        for name, param in m.named_parameters()][0])\n",
        "        nn.init.uniform_(m.weight, -10, 10)\n",
        "        m.weight.data *= m.weight.data.abs() >= 5\n",
        "\n",
        "net.apply(my_init)\n",
        "net[0].weight[:2]"
      ]
    },
    {
      "cell_type": "markdown",
      "metadata": {
        "origin_pos": 58,
        "id": "16c9qeqbtCBt"
      },
      "source": [
        "Tenga en cuenta que siempre tenemos la opción de configurar los parámetros directamente.\n"
      ]
    },
    {
      "cell_type": "code",
      "execution_count": 14,
      "metadata": {
        "origin_pos": 60,
        "tab": [
          "pytorch"
        ],
        "id": "jXLe7BUntCBu",
        "outputId": "eafbf7e2-0e42-4fe3-eb36-e758c28c2042",
        "colab": {
          "base_uri": "https://localhost:8080/"
        }
      },
      "outputs": [
        {
          "output_type": "execute_result",
          "data": {
            "text/plain": [
              "tensor([42.0000, -4.7591,  1.0000,  1.0000])"
            ]
          },
          "metadata": {},
          "execution_count": 14
        }
      ],
      "source": [
        "net[0].weight.data[:] += 1\n",
        "net[0].weight.data[0, 0] = 42\n",
        "net[0].weight.data[0]"
      ]
    },
    {
      "cell_type": "markdown",
      "metadata": {
        "origin_pos": 63,
        "id": "3T4RcaQAtCBv"
      },
      "source": [
        "## **Parámetros vinculados**\n",
        "\n",
        "A menudo, queremos compartir parámetros en varias capas. Veamos cómo hacer esto con elegancia. A continuación, asignamos una capa densa y luego usamos sus parámetros específicamente para establecer los de otra capa.\n"
      ]
    },
    {
      "cell_type": "code",
      "execution_count": null,
      "metadata": {
        "origin_pos": 65,
        "tab": [
          "pytorch"
        ],
        "id": "KgID6qAdtCBv",
        "outputId": "8ebe1f4b-b56a-4edc-da54-0f88bb7c157a"
      },
      "outputs": [
        {
          "name": "stdout",
          "output_type": "stream",
          "text": [
            "tensor([True, True, True, True, True, True, True, True])\n",
            "tensor([True, True, True, True, True, True, True, True])\n"
          ]
        }
      ],
      "source": [
        "# Necesitamos darle un nombre a la capa compartida para que podamos referirnos a sus parámetros\n",
        "shared = nn.Linear(8, 8)\n",
        "net = nn.Sequential(nn.Linear(4, 8), nn.ReLU(),\n",
        "                    shared, nn.ReLU(),\n",
        "                    shared, nn.ReLU(),\n",
        "                    nn.Linear(8, 1))\n",
        "net(X)\n",
        "# Comprueba si los parámetros son los mismos\n",
        "print(net[2].weight.data[0] == net[4].weight.data[0])\n",
        "net[2].weight.data[0, 0] = 100\n",
        "# Se asegura de que en realidad sean el mismo objeto en lugar de tener el mismo valor\n",
        "print(net[2].weight.data[0] == net[4].weight.data[0])"
      ]
    },
    {
      "cell_type": "markdown",
      "metadata": {
        "origin_pos": 67,
        "tab": [
          "pytorch"
        ],
        "id": "GdzNBi96tCBw"
      },
      "source": [
        "Este ejemplo muestra que los parámetros de la segunda y tercera capa están vinculados. No solo son iguales, están representados por el mismo tensor exacto. Así, si cambiamos uno de los parámetros, el otro también cambia. Quizás se pregunte, cuando los parámetros están vinculados, ¿qué sucede con los gradientes? Dado que los parámetros del modelo contienen gradientes, los gradientes de la segunda capa oculta y la tercera capa oculta se suman durante la retropropagación.\n"
      ]
    },
    {
      "cell_type": "markdown",
      "source": [
        "# Archivos de E/S\n",
        "\n",
        "Hasta ahora, discutimos cómo procesar datos y cómo construir, entrenar y probar modelos de aprendizaje profundo. Sin embargo, en algún momento, con suerte, estaremos lo suficientemente contentos con los modelos aprendidos que querremos guardar los resultados para su uso posterior en varios contextos (quizás incluso para hacer predicciones en producción). Además, cuando se ejecuta un proceso de entrenamiento largo, la mejor práctica es guardar periódicamente los resultados intermedios (puntos de control) para garantizar que no perdamos varios días de cómputo si nos tropezamos con el enchufe de nuestro servidor. Por lo tanto, es hora de aprender a cargar y almacenar tanto vectores de peso individuales como modelos completos. Esta sección aborda ambos temas."
      ],
      "metadata": {
        "id": "5Xd7SLX1yqH8"
      }
    },
    {
      "cell_type": "markdown",
      "metadata": {
        "origin_pos": 0,
        "id": "ifJWgWVrtw5H"
      },
      "source": [
        "## **Cargando y guardando tensores**\n",
        "\n",
        "Para tensores individuales, podemos invocar directamente las funciones `load` y `save` para leerlos y escribirlos respectivamente. Ambas funciones requieren que proporcionemos un nombre, y `save` requiere como entrada la variable que se guardará.\n",
        "\n",
        "\n"
      ]
    },
    {
      "cell_type": "code",
      "execution_count": null,
      "metadata": {
        "origin_pos": 2,
        "tab": [
          "pytorch"
        ],
        "id": "bXipHF66tw5R"
      },
      "outputs": [],
      "source": [
        "import torch\n",
        "from torch import nn\n",
        "from torch.nn import functional as F\n",
        "\n",
        "x = torch.arange(4)\n",
        "torch.save(x, 'x-file')"
      ]
    },
    {
      "cell_type": "markdown",
      "metadata": {
        "origin_pos": 4,
        "id": "zY6ZDV67tw5T"
      },
      "source": [
        "Ahora podemos volver a leer los datos del archivo almacenado y cargarlos de vuelta en la memoria.\n"
      ]
    },
    {
      "cell_type": "code",
      "execution_count": null,
      "metadata": {
        "origin_pos": 6,
        "tab": [
          "pytorch"
        ],
        "id": "-pSDjGfjtw5W",
        "outputId": "85d55661-aa44-4ac3-bac7-89730900fa6c"
      },
      "outputs": [
        {
          "data": {
            "text/plain": [
              "tensor([0, 1, 2, 3])"
            ]
          },
          "execution_count": 2,
          "metadata": {},
          "output_type": "execute_result"
        }
      ],
      "source": [
        "x2 = torch.load('x-file')\n",
        "x2"
      ]
    },
    {
      "cell_type": "markdown",
      "metadata": {
        "origin_pos": 8,
        "id": "x41lzGrKtw5Z"
      },
      "source": [
        "Podemos **almacenar una lista de tensores y volver a leerlos en la memoria.**\n"
      ]
    },
    {
      "cell_type": "code",
      "execution_count": null,
      "metadata": {
        "origin_pos": 10,
        "tab": [
          "pytorch"
        ],
        "id": "qQYfuzNZtw5a",
        "outputId": "b192c523-64ba-4231-b4fb-1d95a1337ca6"
      },
      "outputs": [
        {
          "data": {
            "text/plain": [
              "(tensor([0, 1, 2, 3]), tensor([0., 0., 0., 0.]))"
            ]
          },
          "execution_count": 3,
          "metadata": {},
          "output_type": "execute_result"
        }
      ],
      "source": [
        "y = torch.zeros(4)\n",
        "torch.save([x, y],'x-files')\n",
        "x2, y2 = torch.load('x-files')\n",
        "(x2, y2)"
      ]
    },
    {
      "cell_type": "markdown",
      "metadata": {
        "origin_pos": 12,
        "id": "j34tZa6Xtw5d"
      },
      "source": [
        "Incluso podemos **escribir y leer un diccionario que mapea desde cadenas a tensores.** Esto es conveniente cuando queremos leer o escribir todos los pesos en un modelo.\n"
      ]
    },
    {
      "cell_type": "code",
      "execution_count": null,
      "metadata": {
        "origin_pos": 14,
        "tab": [
          "pytorch"
        ],
        "id": "Ht2tuN21tw5f",
        "outputId": "4b9d8399-c919-41db-f788-4e11885976f5"
      },
      "outputs": [
        {
          "data": {
            "text/plain": [
              "{'x': tensor([0, 1, 2, 3]), 'y': tensor([0., 0., 0., 0.])}"
            ]
          },
          "execution_count": 4,
          "metadata": {},
          "output_type": "execute_result"
        }
      ],
      "source": [
        "mydict = {'x': x, 'y': y}\n",
        "torch.save(mydict, 'mydict')\n",
        "mydict2 = torch.load('mydict')\n",
        "mydict2"
      ]
    },
    {
      "cell_type": "markdown",
      "metadata": {
        "origin_pos": 16,
        "id": "1_eJaJIptw5i"
      },
      "source": [
        "## [**Cargar y guardar parámetros del modelo**]\n",
        "\n",
        "Guardar vectores de peso individuales (u otros tensores) es útil, pero se vuelve muy tedioso si queremos guardar (y luego cargar) un modelo completo. Después de todo, es posible que tengamos cientos de grupos de parámetros esparcidos por todas partes. Por esta razón, el framework de deep learning proporciona funcionalidades integradas para cargar y guardar redes enteras. Un detalle importante a tener en cuenta es que esto guarda los *parámetros* del modelo y no todo el modelo. Por ejemplo, si tenemos un MLP de 3 capas, debemos especificar la arquitectura por separado. La razón de esto es que los propios modelos pueden contener código arbitrario, por lo que no se pueden serializar de forma natural. Por lo tanto, para restablecer un modelo, necesitamos generar la arquitectura en código y luego cargar los parámetros desde el disco. (**Empecemos con nuestro familiar MLP.**)\n"
      ]
    },
    {
      "cell_type": "code",
      "execution_count": null,
      "metadata": {
        "origin_pos": 18,
        "tab": [
          "pytorch"
        ],
        "id": "majCeBNLtw5l"
      },
      "outputs": [],
      "source": [
        "class MLP(nn.Module):\n",
        "    def __init__(self):\n",
        "        super().__init__()\n",
        "        self.hidden = nn.Linear(20, 256)\n",
        "        self.output = nn.Linear(256, 10)\n",
        "\n",
        "    def forward(self, x):\n",
        "        return self.output(F.relu(self.hidden(x)))\n",
        "\n",
        "net = MLP()\n",
        "X = torch.randn(size=(2, 20))\n",
        "Y = net(X)"
      ]
    },
    {
      "cell_type": "markdown",
      "metadata": {
        "origin_pos": 20,
        "id": "3svfj4h9tw5o"
      },
      "source": [
        "A continuación, **almacenamos los parámetros del modelo como un archivo** con el nombre \"mlp.params\".\n"
      ]
    },
    {
      "cell_type": "code",
      "execution_count": null,
      "metadata": {
        "origin_pos": 22,
        "tab": [
          "pytorch"
        ],
        "id": "39C6G0TNtw5p"
      },
      "outputs": [],
      "source": [
        "torch.save(net.state_dict(), 'mlp.params')"
      ]
    },
    {
      "cell_type": "markdown",
      "metadata": {
        "origin_pos": 24,
        "id": "qCndViRrtw5q"
      },
      "source": [
        "Para recuperar el modelo, instanciamos un clon del modelo MLP original. En lugar de inicializar aleatoriamente los parámetros del modelo, **leemos directamente los parámetros almacenados en el archivo**.\n"
      ]
    },
    {
      "cell_type": "code",
      "execution_count": null,
      "metadata": {
        "origin_pos": 26,
        "tab": [
          "pytorch"
        ],
        "id": "8JuswSgStw5s",
        "outputId": "2d398340-0f3e-4339-8ee0-7f5f292641b5"
      },
      "outputs": [
        {
          "data": {
            "text/plain": [
              "MLP(\n",
              "  (hidden): Linear(in_features=20, out_features=256, bias=True)\n",
              "  (output): Linear(in_features=256, out_features=10, bias=True)\n",
              ")"
            ]
          },
          "execution_count": 7,
          "metadata": {},
          "output_type": "execute_result"
        }
      ],
      "source": [
        "clone = MLP()\n",
        "clone.load_state_dict(torch.load('mlp.params'))\n",
        "clone.eval()"
      ]
    },
    {
      "cell_type": "markdown",
      "metadata": {
        "origin_pos": 28,
        "id": "pcKxBjPktw5t"
      },
      "source": [
        "Dado que ambas instancias tienen los mismos parámetros de modelo, el resultado computacional de la misma entrada `X` debería ser el mismo. Verifiquemos esto.\n"
      ]
    },
    {
      "cell_type": "code",
      "execution_count": null,
      "metadata": {
        "origin_pos": 30,
        "tab": [
          "pytorch"
        ],
        "id": "UbaY0DTBtw5u",
        "outputId": "21585cc6-76c1-4cfb-cf8f-cdb910632bb8"
      },
      "outputs": [
        {
          "data": {
            "text/plain": [
              "tensor([[True, True, True, True, True, True, True, True, True, True],\n",
              "        [True, True, True, True, True, True, True, True, True, True]])"
            ]
          },
          "execution_count": 8,
          "metadata": {},
          "output_type": "execute_result"
        }
      ],
      "source": [
        "Y_clone = clone(X)\n",
        "Y_clone == Y"
      ]
    }
  ],
  "metadata": {
    "language_info": {
      "name": "python"
    },
    "colab": {
      "name": "Modelos Personalizados",
      "provenance": [],
      "collapsed_sections": [
        "U_4fVTpGyxBO",
        "QizfICnTmt_-",
        "GGxZfNSvmuAH",
        "ZG3Tmh2uqktb",
        "j-0rDnGkd_c9",
        "5Xd7SLX1yqH8"
      ]
    },
    "kernelspec": {
      "name": "python3",
      "display_name": "Python 3"
    }
  },
  "nbformat": 4,
  "nbformat_minor": 0
}